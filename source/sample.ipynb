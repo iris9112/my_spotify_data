{
 "cells": [
  {
   "cell_type": "markdown",
   "source": [
    "My Year on Spotify"
   ],
   "metadata": {
    "collapsed": false,
    "pycharm": {
     "name": "#%% md\n"
    }
   }
  },
  {
   "cell_type": "code",
   "execution_count": 214,
   "outputs": [
    {
     "data": {
      "text/plain": "            endTime      artistName  \\\n0  2021-05-25 05:57           Fobia   \n1  2021-05-25 05:57  T.M.Revolution   \n2  2021-05-25 05:57  T.M.Revolution   \n3  2021-05-25 06:03     Night Tempo   \n4  2021-05-25 07:03      Disclosure   \n\n                                     trackName  msPlayed  \n0                                         Vivo      2834  \n1                        HEART OF SWORD 〜夜明け前〜      7401  \n2                        HEART OF SWORD 〜夜明け前〜    244333  \n3  Stay with Me - Night Tempo Showa Groove Mix    341746  \n4                                        Latch     90976  ",
      "text/html": "<div>\n<style scoped>\n    .dataframe tbody tr th:only-of-type {\n        vertical-align: middle;\n    }\n\n    .dataframe tbody tr th {\n        vertical-align: top;\n    }\n\n    .dataframe thead th {\n        text-align: right;\n    }\n</style>\n<table border=\"1\" class=\"dataframe\">\n  <thead>\n    <tr style=\"text-align: right;\">\n      <th></th>\n      <th>endTime</th>\n      <th>artistName</th>\n      <th>trackName</th>\n      <th>msPlayed</th>\n    </tr>\n  </thead>\n  <tbody>\n    <tr>\n      <th>0</th>\n      <td>2021-05-25 05:57</td>\n      <td>Fobia</td>\n      <td>Vivo</td>\n      <td>2834</td>\n    </tr>\n    <tr>\n      <th>1</th>\n      <td>2021-05-25 05:57</td>\n      <td>T.M.Revolution</td>\n      <td>HEART OF SWORD 〜夜明け前〜</td>\n      <td>7401</td>\n    </tr>\n    <tr>\n      <th>2</th>\n      <td>2021-05-25 05:57</td>\n      <td>T.M.Revolution</td>\n      <td>HEART OF SWORD 〜夜明け前〜</td>\n      <td>244333</td>\n    </tr>\n    <tr>\n      <th>3</th>\n      <td>2021-05-25 06:03</td>\n      <td>Night Tempo</td>\n      <td>Stay with Me - Night Tempo Showa Groove Mix</td>\n      <td>341746</td>\n    </tr>\n    <tr>\n      <th>4</th>\n      <td>2021-05-25 07:03</td>\n      <td>Disclosure</td>\n      <td>Latch</td>\n      <td>90976</td>\n    </tr>\n  </tbody>\n</table>\n</div>"
     },
     "execution_count": 214,
     "metadata": {},
     "output_type": "execute_result"
    }
   ],
   "source": [
    "import calendar\n",
    "import numpy as np\n",
    "import pandas as pd\n",
    "import matplotlib.pyplot as plt\n",
    "import seaborn as sns\n",
    "from datetime import timedelta\n",
    "\n",
    "\n",
    "df = pd.read_csv('../data/streaming_history.csv')\n",
    "df.head()"
   ],
   "metadata": {
    "collapsed": false,
    "pycharm": {
     "name": "#%%\n"
    }
   }
  },
  {
   "cell_type": "code",
   "execution_count": 215,
   "outputs": [
    {
     "data": {
      "text/plain": "               date      artistName  \\\n0  2021-05-25 05:57           Fobia   \n1  2021-05-25 05:57  T.M.Revolution   \n2  2021-05-25 05:57  T.M.Revolution   \n3  2021-05-25 06:03     Night Tempo   \n4  2021-05-25 07:03      Disclosure   \n\n                                     trackName  timePlayed  \n0                                         Vivo        2834  \n1                        HEART OF SWORD 〜夜明け前〜        7401  \n2                        HEART OF SWORD 〜夜明け前〜      244333  \n3  Stay with Me - Night Tempo Showa Groove Mix      341746  \n4                                        Latch       90976  ",
      "text/html": "<div>\n<style scoped>\n    .dataframe tbody tr th:only-of-type {\n        vertical-align: middle;\n    }\n\n    .dataframe tbody tr th {\n        vertical-align: top;\n    }\n\n    .dataframe thead th {\n        text-align: right;\n    }\n</style>\n<table border=\"1\" class=\"dataframe\">\n  <thead>\n    <tr style=\"text-align: right;\">\n      <th></th>\n      <th>date</th>\n      <th>artistName</th>\n      <th>trackName</th>\n      <th>timePlayed</th>\n    </tr>\n  </thead>\n  <tbody>\n    <tr>\n      <th>0</th>\n      <td>2021-05-25 05:57</td>\n      <td>Fobia</td>\n      <td>Vivo</td>\n      <td>2834</td>\n    </tr>\n    <tr>\n      <th>1</th>\n      <td>2021-05-25 05:57</td>\n      <td>T.M.Revolution</td>\n      <td>HEART OF SWORD 〜夜明け前〜</td>\n      <td>7401</td>\n    </tr>\n    <tr>\n      <th>2</th>\n      <td>2021-05-25 05:57</td>\n      <td>T.M.Revolution</td>\n      <td>HEART OF SWORD 〜夜明け前〜</td>\n      <td>244333</td>\n    </tr>\n    <tr>\n      <th>3</th>\n      <td>2021-05-25 06:03</td>\n      <td>Night Tempo</td>\n      <td>Stay with Me - Night Tempo Showa Groove Mix</td>\n      <td>341746</td>\n    </tr>\n    <tr>\n      <th>4</th>\n      <td>2021-05-25 07:03</td>\n      <td>Disclosure</td>\n      <td>Latch</td>\n      <td>90976</td>\n    </tr>\n  </tbody>\n</table>\n</div>"
     },
     "execution_count": 215,
     "metadata": {},
     "output_type": "execute_result"
    }
   ],
   "source": [
    "# rename columns\n",
    "df = df.rename(columns={\"endTime\": \"date\", \"msPlayed\": \"timePlayed\"})\n",
    "df.head()"
   ],
   "metadata": {
    "collapsed": false,
    "pycharm": {
     "name": "#%%\n"
    }
   }
  },
  {
   "cell_type": "code",
   "execution_count": 216,
   "outputs": [
    {
     "data": {
      "text/plain": "        date      artistName                                    trackName  \\\n0 2021-05-25           Fobia                                         Vivo   \n1 2021-05-25  T.M.Revolution                        HEART OF SWORD 〜夜明け前〜   \n2 2021-05-25  T.M.Revolution                        HEART OF SWORD 〜夜明け前〜   \n3 2021-05-25     Night Tempo  Stay with Me - Night Tempo Showa Groove Mix   \n4 2021-05-25      Disclosure                                        Latch   \n\n   timePlayed  \n0        2834  \n1        7401  \n2      244333  \n3      341746  \n4       90976  ",
      "text/html": "<div>\n<style scoped>\n    .dataframe tbody tr th:only-of-type {\n        vertical-align: middle;\n    }\n\n    .dataframe tbody tr th {\n        vertical-align: top;\n    }\n\n    .dataframe thead th {\n        text-align: right;\n    }\n</style>\n<table border=\"1\" class=\"dataframe\">\n  <thead>\n    <tr style=\"text-align: right;\">\n      <th></th>\n      <th>date</th>\n      <th>artistName</th>\n      <th>trackName</th>\n      <th>timePlayed</th>\n    </tr>\n  </thead>\n  <tbody>\n    <tr>\n      <th>0</th>\n      <td>2021-05-25</td>\n      <td>Fobia</td>\n      <td>Vivo</td>\n      <td>2834</td>\n    </tr>\n    <tr>\n      <th>1</th>\n      <td>2021-05-25</td>\n      <td>T.M.Revolution</td>\n      <td>HEART OF SWORD 〜夜明け前〜</td>\n      <td>7401</td>\n    </tr>\n    <tr>\n      <th>2</th>\n      <td>2021-05-25</td>\n      <td>T.M.Revolution</td>\n      <td>HEART OF SWORD 〜夜明け前〜</td>\n      <td>244333</td>\n    </tr>\n    <tr>\n      <th>3</th>\n      <td>2021-05-25</td>\n      <td>Night Tempo</td>\n      <td>Stay with Me - Night Tempo Showa Groove Mix</td>\n      <td>341746</td>\n    </tr>\n    <tr>\n      <th>4</th>\n      <td>2021-05-25</td>\n      <td>Disclosure</td>\n      <td>Latch</td>\n      <td>90976</td>\n    </tr>\n  </tbody>\n</table>\n</div>"
     },
     "execution_count": 216,
     "metadata": {},
     "output_type": "execute_result"
    }
   ],
   "source": [
    "df[\"date\"] = pd.to_datetime(df[\"date\"])\n",
    "df[\"date\"]  = df[\"date\"].dt.floor('d')\n",
    "df.head()"
   ],
   "metadata": {
    "collapsed": false,
    "pycharm": {
     "name": "#%%\n"
    }
   }
  },
  {
   "cell_type": "code",
   "execution_count": 217,
   "outputs": [
    {
     "data": {
      "text/plain": "        date      artistName                                    trackName  \\\n0 2021-05-25           Fobia                                         Vivo   \n1 2021-05-25  T.M.Revolution                        HEART OF SWORD 〜夜明け前〜   \n2 2021-05-25  T.M.Revolution                        HEART OF SWORD 〜夜明け前〜   \n3 2021-05-25     Night Tempo  Stay with Me - Night Tempo Showa Groove Mix   \n4 2021-05-25      Disclosure                                        Latch   \n\n   timePlayed  \n0    0.047233  \n1    0.123350  \n2    4.072217  \n3    5.695767  \n4    1.516267  ",
      "text/html": "<div>\n<style scoped>\n    .dataframe tbody tr th:only-of-type {\n        vertical-align: middle;\n    }\n\n    .dataframe tbody tr th {\n        vertical-align: top;\n    }\n\n    .dataframe thead th {\n        text-align: right;\n    }\n</style>\n<table border=\"1\" class=\"dataframe\">\n  <thead>\n    <tr style=\"text-align: right;\">\n      <th></th>\n      <th>date</th>\n      <th>artistName</th>\n      <th>trackName</th>\n      <th>timePlayed</th>\n    </tr>\n  </thead>\n  <tbody>\n    <tr>\n      <th>0</th>\n      <td>2021-05-25</td>\n      <td>Fobia</td>\n      <td>Vivo</td>\n      <td>0.047233</td>\n    </tr>\n    <tr>\n      <th>1</th>\n      <td>2021-05-25</td>\n      <td>T.M.Revolution</td>\n      <td>HEART OF SWORD 〜夜明け前〜</td>\n      <td>0.123350</td>\n    </tr>\n    <tr>\n      <th>2</th>\n      <td>2021-05-25</td>\n      <td>T.M.Revolution</td>\n      <td>HEART OF SWORD 〜夜明け前〜</td>\n      <td>4.072217</td>\n    </tr>\n    <tr>\n      <th>3</th>\n      <td>2021-05-25</td>\n      <td>Night Tempo</td>\n      <td>Stay with Me - Night Tempo Showa Groove Mix</td>\n      <td>5.695767</td>\n    </tr>\n    <tr>\n      <th>4</th>\n      <td>2021-05-25</td>\n      <td>Disclosure</td>\n      <td>Latch</td>\n      <td>1.516267</td>\n    </tr>\n  </tbody>\n</table>\n</div>"
     },
     "execution_count": 217,
     "metadata": {},
     "output_type": "execute_result"
    }
   ],
   "source": [
    "df['timePlayed'] = pd.to_timedelta(df['timePlayed'], unit='ms')\n",
    "df['timePlayed'] = df['timePlayed'].dt.total_seconds() / 60\n",
    "df.head()"
   ],
   "metadata": {
    "collapsed": false,
    "pycharm": {
     "name": "#%%\n"
    }
   }
  },
  {
   "cell_type": "markdown",
   "source": [],
   "metadata": {
    "collapsed": false,
    "pycharm": {
     "name": "#%% md\n"
    }
   }
  },
  {
   "cell_type": "code",
   "execution_count": 218,
   "outputs": [],
   "source": [
    "by_date = df.groupby(\"date\")[[\"trackName\"]].count()\n",
    "by_date = by_date.sort_index()"
   ],
   "metadata": {
    "collapsed": false,
    "pycharm": {
     "name": "#%%\n"
    }
   }
  },
  {
   "cell_type": "code",
   "execution_count": 219,
   "outputs": [
    {
     "data": {
      "text/plain": "            trackName  weekday  week\ndate                                \n2021-05-25         75        2    21\n2021-05-26         62        3    21\n2021-05-27        217        4    21\n2021-05-28        177        5    21\n2021-05-29         41        6    21",
      "text/html": "<div>\n<style scoped>\n    .dataframe tbody tr th:only-of-type {\n        vertical-align: middle;\n    }\n\n    .dataframe tbody tr th {\n        vertical-align: top;\n    }\n\n    .dataframe thead th {\n        text-align: right;\n    }\n</style>\n<table border=\"1\" class=\"dataframe\">\n  <thead>\n    <tr style=\"text-align: right;\">\n      <th></th>\n      <th>trackName</th>\n      <th>weekday</th>\n      <th>week</th>\n    </tr>\n    <tr>\n      <th>date</th>\n      <th></th>\n      <th></th>\n      <th></th>\n    </tr>\n  </thead>\n  <tbody>\n    <tr>\n      <th>2021-05-25</th>\n      <td>75</td>\n      <td>2</td>\n      <td>21</td>\n    </tr>\n    <tr>\n      <th>2021-05-26</th>\n      <td>62</td>\n      <td>3</td>\n      <td>21</td>\n    </tr>\n    <tr>\n      <th>2021-05-27</th>\n      <td>217</td>\n      <td>4</td>\n      <td>21</td>\n    </tr>\n    <tr>\n      <th>2021-05-28</th>\n      <td>177</td>\n      <td>5</td>\n      <td>21</td>\n    </tr>\n    <tr>\n      <th>2021-05-29</th>\n      <td>41</td>\n      <td>6</td>\n      <td>21</td>\n    </tr>\n  </tbody>\n</table>\n</div>"
     },
     "execution_count": 219,
     "metadata": {},
     "output_type": "execute_result"
    }
   ],
   "source": [
    "by_date[\"weekday\"] = pd.Index(by_date.index.isocalendar().day)\n",
    "by_date[\"week\"] = pd.Index(by_date.index.isocalendar().week)\n",
    "\n",
    "by_date.head()"
   ],
   "metadata": {
    "collapsed": false,
    "pycharm": {
     "name": "#%%\n"
    }
   }
  },
  {
   "cell_type": "markdown",
   "source": [
    "Ahora vamos a convertir la columna Week en un conteo, es decir, que la semana 2021-05-25 ya no será la semana 21 (del año) sino que para nosotros será la semana 0 (desde donde iniciamos), luego la semana 22 será nuestra semana 1, y así sucesivamente..."
   ],
   "metadata": {
    "collapsed": false,
    "pycharm": {
     "name": "#%% md\n"
    }
   }
  },
  {
   "cell_type": "code",
   "execution_count": 220,
   "outputs": [
    {
     "data": {
      "text/plain": "            trackName  weekday  week  continuous_week\ndate                                                 \n2021-05-25         75        2    21                0\n2021-05-26         62        3    21                0\n2021-05-27        217        4    21                0\n2021-05-28        177        5    21                0\n2021-05-29         41        6    21                0\n2021-05-30         81        7    21                0\n2021-05-31        114        1    22                1\n2021-06-01         59        2    22                1\n2021-06-02        123        3    22                1\n2021-06-03        159        4    22                1",
      "text/html": "<div>\n<style scoped>\n    .dataframe tbody tr th:only-of-type {\n        vertical-align: middle;\n    }\n\n    .dataframe tbody tr th {\n        vertical-align: top;\n    }\n\n    .dataframe thead th {\n        text-align: right;\n    }\n</style>\n<table border=\"1\" class=\"dataframe\">\n  <thead>\n    <tr style=\"text-align: right;\">\n      <th></th>\n      <th>trackName</th>\n      <th>weekday</th>\n      <th>week</th>\n      <th>continuous_week</th>\n    </tr>\n    <tr>\n      <th>date</th>\n      <th></th>\n      <th></th>\n      <th></th>\n      <th></th>\n    </tr>\n  </thead>\n  <tbody>\n    <tr>\n      <th>2021-05-25</th>\n      <td>75</td>\n      <td>2</td>\n      <td>21</td>\n      <td>0</td>\n    </tr>\n    <tr>\n      <th>2021-05-26</th>\n      <td>62</td>\n      <td>3</td>\n      <td>21</td>\n      <td>0</td>\n    </tr>\n    <tr>\n      <th>2021-05-27</th>\n      <td>217</td>\n      <td>4</td>\n      <td>21</td>\n      <td>0</td>\n    </tr>\n    <tr>\n      <th>2021-05-28</th>\n      <td>177</td>\n      <td>5</td>\n      <td>21</td>\n      <td>0</td>\n    </tr>\n    <tr>\n      <th>2021-05-29</th>\n      <td>41</td>\n      <td>6</td>\n      <td>21</td>\n      <td>0</td>\n    </tr>\n    <tr>\n      <th>2021-05-30</th>\n      <td>81</td>\n      <td>7</td>\n      <td>21</td>\n      <td>0</td>\n    </tr>\n    <tr>\n      <th>2021-05-31</th>\n      <td>114</td>\n      <td>1</td>\n      <td>22</td>\n      <td>1</td>\n    </tr>\n    <tr>\n      <th>2021-06-01</th>\n      <td>59</td>\n      <td>2</td>\n      <td>22</td>\n      <td>1</td>\n    </tr>\n    <tr>\n      <th>2021-06-02</th>\n      <td>123</td>\n      <td>3</td>\n      <td>22</td>\n      <td>1</td>\n    </tr>\n    <tr>\n      <th>2021-06-03</th>\n      <td>159</td>\n      <td>4</td>\n      <td>22</td>\n      <td>1</td>\n    </tr>\n  </tbody>\n</table>\n</div>"
     },
     "execution_count": 220,
     "metadata": {},
     "output_type": "execute_result"
    }
   ],
   "source": [
    "week = 0\n",
    "prev_week = by_date.iloc[0][\"week\"]\n",
    "continuous_week = np.zeros(len(by_date)).astype(int)\n",
    "for i, (_, row) in enumerate(by_date.iterrows()):\n",
    "    if row[\"week\"] != prev_week:\n",
    "        week += 1\n",
    "        prev_week = row[\"week\"]\n",
    "    continuous_week[i] = week\n",
    "by_date[\"continuous_week\"] = continuous_week\n",
    "by_date.head(10)"
   ],
   "metadata": {
    "collapsed": false,
    "pycharm": {
     "name": "#%%\n"
    }
   }
  },
  {
   "cell_type": "markdown",
   "source": [
    "El siguiente paso es preparar, con NumPy, una matriz de tamaño días ✕ semanas en donde cada una de las entradas será la cantidad de canciones que escuchamos en ese día, de esa semana:"
   ],
   "metadata": {
    "collapsed": false,
    "pycharm": {
     "name": "#%% md\n"
    }
   }
  },
  {
   "cell_type": "code",
   "execution_count": 221,
   "outputs": [],
   "source": [
    "songs = np.full((7, continuous_week.max() + 1), np.nan)\n",
    "\n",
    "\n",
    "for index, row in by_date.iterrows():\n",
    "    # tenemos los dias de la semana de 1 a 7\n",
    "    # pero los indices del array songs van del 0 al 6\n",
    "    # vamo a bajarle 1\n",
    "    day = row[\"weekday\"] - 1\n",
    "    week = row[\"continuous_week\"]\n",
    "    # enviar el numero de reproduciones a la posicion day x week\n",
    "    songs[day][week] = row[\"trackName\"]\n"
   ],
   "metadata": {
    "collapsed": false,
    "pycharm": {
     "name": "#%%\n"
    }
   }
  },
  {
   "cell_type": "code",
   "execution_count": 222,
   "outputs": [
    {
     "data": {
      "text/plain": "<Figure size 1440x360 with 2 Axes>",
      "image/png": "[encoded data removed]"
     },
     "metadata": {
      "needs_background": "light"
     },
     "output_type": "display_data"
    }
   ],
   "source": [
    "# vamos a graficar la matrix songs\n",
    "fig = plt.figure(figsize=(20, 5))\n",
    "ax = plt.subplot()\n",
    "mask = np.isnan(songs)\n",
    "\n",
    "sns.heatmap(songs, ax = ax, cmap=\"Greens\")\n",
    "plt.show()"
   ],
   "metadata": {
    "collapsed": false,
    "pycharm": {
     "name": "#%%\n"
    }
   }
  },
  {
   "cell_type": "markdown",
   "source": [
    "Hubo un dia donde escuché **¡¡400 canciones!!** Seguro me quede dormida con Alexa encendida..."
   ],
   "metadata": {
    "collapsed": false,
    "pycharm": {
     "name": "#%% md\n"
    }
   }
  },
  {
   "cell_type": "markdown",
   "source": [
    "Vamo' a poner bonito!! (A continuación es copy/paste de los magos de Tacos de datos)"
   ],
   "metadata": {
    "collapsed": false,
    "pycharm": {
     "name": "#%% md\n"
    }
   }
  },
  {
   "cell_type": "code",
   "execution_count": 238,
   "outputs": [],
   "source": [
    "min_date = df[\"date\"].min()\n",
    "first_monday = min_date - timedelta(min_date.weekday())\n",
    "months = [first_monday + timedelta(weeks=wk) for wk in range(continuous_week.max())]\n",
    "\n",
    "x_labels = [calendar.month_abbr[months[0].month]]\n",
    "x_labels.extend([\n",
    "    calendar.month_abbr[months[i].month] \\\n",
    "    if months[i-1].month != months[i].month else \"\" for i in range(len(months))\n",
    "])\n",
    "\n",
    "y_labels = [\"Mon\", \"\", \"Wed\", \"\", \"Fri\", \"\", \"Sun\"]"
   ],
   "metadata": {
    "collapsed": false,
    "pycharm": {
     "name": "#%%\n"
    }
   }
  },
  {
   "cell_type": "markdown",
   "source": [
    "Continua la _grafimagia_..."
   ],
   "metadata": {
    "collapsed": false,
    "pycharm": {
     "name": "#%% md\n"
    }
   }
  },
  {
   "cell_type": "code",
   "execution_count": 240,
   "outputs": [
    {
     "data": {
      "text/plain": "[Text(0.5, 1, 'May'),\n Text(1.5, 1, ''),\n Text(2.5, 1, ''),\n Text(3.5, 1, 'Jun'),\n Text(4.5, 1, ''),\n Text(5.5, 1, ''),\n Text(6.5, 1, ''),\n Text(7.5, 1, 'Jul'),\n Text(8.5, 1, ''),\n Text(9.5, 1, ''),\n Text(10.5, 1, ''),\n Text(11.5, 1, 'Aug'),\n Text(12.5, 1, ''),\n Text(13.5, 1, ''),\n Text(14.5, 1, ''),\n Text(15.5, 1, ''),\n Text(16.5, 1, 'Sep'),\n Text(17.5, 1, ''),\n Text(18.5, 1, ''),\n Text(19.5, 1, ''),\n Text(20.5, 1, 'Oct'),\n Text(21.5, 1, ''),\n Text(22.5, 1, ''),\n Text(23.5, 1, ''),\n Text(24.5, 1, 'Nov'),\n Text(25.5, 1, ''),\n Text(26.5, 1, ''),\n Text(27.5, 1, ''),\n Text(28.5, 1, ''),\n Text(29.5, 1, 'Dec'),\n Text(30.5, 1, ''),\n Text(31.5, 1, ''),\n Text(32.5, 1, ''),\n Text(33.5, 1, 'Jan'),\n Text(34.5, 1, ''),\n Text(35.5, 1, ''),\n Text(36.5, 1, ''),\n Text(37.5, 1, ''),\n Text(38.5, 1, 'Feb'),\n Text(39.5, 1, ''),\n Text(40.5, 1, ''),\n Text(41.5, 1, ''),\n Text(42.5, 1, 'Mar'),\n Text(43.5, 1, ''),\n Text(44.5, 1, ''),\n Text(45.5, 1, ''),\n Text(46.5, 1, 'Apr'),\n Text(47.5, 1, ''),\n Text(48.5, 1, ''),\n Text(49.5, 1, ''),\n Text(50.5, 1, 'May'),\n Text(51.5, 1, ''),\n Text(52.5, 1, '')]"
     },
     "execution_count": 240,
     "metadata": {},
     "output_type": "execute_result"
    },
    {
     "data": {
      "text/plain": "<Figure size 1728x432 with 1 Axes>",
      "image/png": "[encoded data removed]"
     },
     "metadata": {},
     "output_type": "display_data"
    }
   ],
   "source": [
    "fig = plt.figure(figsize=(24, 6))\n",
    "ax = plt.subplot()\n",
    "\n",
    "ax.set_title(\"My Year On Spotify ♥\", fontsize=24, pad=60)\n",
    "ax.xaxis.tick_top()\n",
    "ax.tick_params(axis=\"both\", which=\"both\", length=0)\n",
    "ax.set_facecolor(\"#ebedf0\")\n",
    "fig.patch.set_facecolor('white')\n",
    "\n",
    "sns.heatmap(\n",
    "    songs, linewidths=2, linecolor=\"white\", square=True, mask=np.isnan(songs), cmap=\"Greens\", vmin=0, vmax=200, cbar=False, ax=ax)\n",
    "\n",
    "ax.set_yticklabels(y_labels, rotation=0)\n",
    "ax.set_xticklabels(x_labels, ha=\"left\")\n"
   ],
   "metadata": {
    "collapsed": false,
    "pycharm": {
     "name": "#%%\n"
    }
   }
  },
  {
   "cell_type": "markdown",
   "source": [
    "> “El arte de la música es el que más cercano se halla de las lágrimas y los recuerdos”"
   ],
   "metadata": {
    "collapsed": false,
    "pycharm": {
     "name": "#%% md\n"
    }
   }
  }
 ],
 "metadata": {
  "kernelspec": {
   "display_name": "Python 3",
   "language": "python",
   "name": "python3"
  },
  "language_info": {
   "codemirror_mode": {
    "name": "ipython",
    "version": 2
   },
   "file_extension": ".py",
   "mimetype": "text/x-python",
   "name": "python",
   "nbconvert_exporter": "python",
   "pygments_lexer": "ipython2",
   "version": "2.7.6"
  }
 },
 "nbformat": 4,
 "nbformat_minor": 0
}