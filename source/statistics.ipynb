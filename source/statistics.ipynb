{
 "cells": [
  {
   "cell_type": "code",
   "execution_count": 4,
   "metadata": {
    "collapsed": true,
    "pycharm": {
     "name": "#%%\n"
    }
   },
   "outputs": [
    {
     "data": {
      "text/plain": "        date      artistName                                    trackName  \\\n0 2021-05-25           Fobia                                         Vivo   \n1 2021-05-25  T.M.Revolution                        HEART OF SWORD 〜夜明け前〜   \n2 2021-05-25  T.M.Revolution                        HEART OF SWORD 〜夜明け前〜   \n3 2021-05-25     Night Tempo  Stay with Me - Night Tempo Showa Groove Mix   \n4 2021-05-25      Disclosure                                        Latch   \n\n   timePlayed  \n0    0.047233  \n1    0.123350  \n2    4.072217  \n3    5.695767  \n4    1.516267  ",
      "text/html": "<div>\n<style scoped>\n    .dataframe tbody tr th:only-of-type {\n        vertical-align: middle;\n    }\n\n    .dataframe tbody tr th {\n        vertical-align: top;\n    }\n\n    .dataframe thead th {\n        text-align: right;\n    }\n</style>\n<table border=\"1\" class=\"dataframe\">\n  <thead>\n    <tr style=\"text-align: right;\">\n      <th></th>\n      <th>date</th>\n      <th>artistName</th>\n      <th>trackName</th>\n      <th>timePlayed</th>\n    </tr>\n  </thead>\n  <tbody>\n    <tr>\n      <th>0</th>\n      <td>2021-05-25</td>\n      <td>Fobia</td>\n      <td>Vivo</td>\n      <td>0.047233</td>\n    </tr>\n    <tr>\n      <th>1</th>\n      <td>2021-05-25</td>\n      <td>T.M.Revolution</td>\n      <td>HEART OF SWORD 〜夜明け前〜</td>\n      <td>0.123350</td>\n    </tr>\n    <tr>\n      <th>2</th>\n      <td>2021-05-25</td>\n      <td>T.M.Revolution</td>\n      <td>HEART OF SWORD 〜夜明け前〜</td>\n      <td>4.072217</td>\n    </tr>\n    <tr>\n      <th>3</th>\n      <td>2021-05-25</td>\n      <td>Night Tempo</td>\n      <td>Stay with Me - Night Tempo Showa Groove Mix</td>\n      <td>5.695767</td>\n    </tr>\n    <tr>\n      <th>4</th>\n      <td>2021-05-25</td>\n      <td>Disclosure</td>\n      <td>Latch</td>\n      <td>1.516267</td>\n    </tr>\n  </tbody>\n</table>\n</div>"
     },
     "execution_count": 4,
     "metadata": {},
     "output_type": "execute_result"
    }
   ],
   "source": [
    "import numpy as np\n",
    "import pandas as pd\n",
    "import matplotlib.pyplot as plt\n",
    "import seaborn as sns\n",
    "from datetime import timedelta\n",
    "\n",
    "\n",
    "df = pd.read_csv('../data/streaming_history.csv')\n",
    "# rename columns\n",
    "df = df.rename(columns={\"endTime\": \"date\", \"msPlayed\": \"timePlayed\"})\n",
    "df[\"date\"] = pd.to_datetime(df[\"date\"])\n",
    "df[\"date\"]  = df[\"date\"].dt.floor('d')\n",
    "df['timePlayed'] = pd.to_timedelta(df['timePlayed'], unit='ms')\n",
    "df['timePlayed'] = df['timePlayed'].dt.total_seconds() / 60\n",
    "df.head()"
   ]
  },
  {
   "cell_type": "code",
   "execution_count": null,
   "outputs": [],
   "source": [],
   "metadata": {
    "collapsed": false,
    "pycharm": {
     "name": "#%%\n"
    }
   }
  }
 ],
 "metadata": {
  "kernelspec": {
   "display_name": "Python 3",
   "language": "python",
   "name": "python3"
  },
  "language_info": {
   "codemirror_mode": {
    "name": "ipython",
    "version": 2
   },
   "file_extension": ".py",
   "mimetype": "text/x-python",
   "name": "python",
   "nbconvert_exporter": "python",
   "pygments_lexer": "ipython2",
   "version": "2.7.6"
  }
 },
 "nbformat": 4,
 "nbformat_minor": 0
}