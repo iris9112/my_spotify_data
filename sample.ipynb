{
 "cells": [
  {
   "cell_type": "markdown",
   "source": [
    "My Year on Spotify\n",
    "\n",
    "Con ayuda de https://old.tacosdedatos.com/mas-data-viz-con-spotify-python"
   ],
   "metadata": {
    "collapsed": false,
    "pycharm": {
     "name": "#%% md\n"
    }
   }
  },
  {
   "cell_type": "code",
   "execution_count": 99,
   "outputs": [
    {
     "data": {
      "text/plain": "            endTime          artistName  \\\n0  2021-05-22 00:25  Los Ángeles Azules   \n1  2021-05-25 05:57               Fobia   \n2  2021-05-25 05:57      T.M.Revolution   \n3  2021-05-25 05:57      T.M.Revolution   \n4  2021-05-25 06:03         Night Tempo   \n\n                                     trackName  msPlayed  \n0                    Me Cuesta Tanto Olvidarte     93993  \n1                                         Vivo      2834  \n2                        HEART OF SWORD 〜夜明け前〜      7401  \n3                        HEART OF SWORD 〜夜明け前〜    244333  \n4  Stay with Me - Night Tempo Showa Groove Mix    341746  ",
      "text/html": "<div>\n<style scoped>\n    .dataframe tbody tr th:only-of-type {\n        vertical-align: middle;\n    }\n\n    .dataframe tbody tr th {\n        vertical-align: top;\n    }\n\n    .dataframe thead th {\n        text-align: right;\n    }\n</style>\n<table border=\"1\" class=\"dataframe\">\n  <thead>\n    <tr style=\"text-align: right;\">\n      <th></th>\n      <th>endTime</th>\n      <th>artistName</th>\n      <th>trackName</th>\n      <th>msPlayed</th>\n    </tr>\n  </thead>\n  <tbody>\n    <tr>\n      <th>0</th>\n      <td>2021-05-22 00:25</td>\n      <td>Los Ángeles Azules</td>\n      <td>Me Cuesta Tanto Olvidarte</td>\n      <td>93993</td>\n    </tr>\n    <tr>\n      <th>1</th>\n      <td>2021-05-25 05:57</td>\n      <td>Fobia</td>\n      <td>Vivo</td>\n      <td>2834</td>\n    </tr>\n    <tr>\n      <th>2</th>\n      <td>2021-05-25 05:57</td>\n      <td>T.M.Revolution</td>\n      <td>HEART OF SWORD 〜夜明け前〜</td>\n      <td>7401</td>\n    </tr>\n    <tr>\n      <th>3</th>\n      <td>2021-05-25 05:57</td>\n      <td>T.M.Revolution</td>\n      <td>HEART OF SWORD 〜夜明け前〜</td>\n      <td>244333</td>\n    </tr>\n    <tr>\n      <th>4</th>\n      <td>2021-05-25 06:03</td>\n      <td>Night Tempo</td>\n      <td>Stay with Me - Night Tempo Showa Groove Mix</td>\n      <td>341746</td>\n    </tr>\n  </tbody>\n</table>\n</div>"
     },
     "execution_count": 99,
     "metadata": {},
     "output_type": "execute_result"
    }
   ],
   "source": [
    "import calendar\n",
    "import numpy as np\n",
    "import pandas as pd\n",
    "import matplotlib.pyplot as plt\n",
    "import seaborn as sns\n",
    "from datetime import timedelta\n",
    "\n",
    "\n",
    "df = pd.read_csv('data/streaming_history.csv')\n",
    "df.head()"
   ],
   "metadata": {
    "collapsed": false,
    "pycharm": {
     "name": "#%%\n"
    }
   }
  },
  {
   "cell_type": "code",
   "execution_count": 100,
   "outputs": [
    {
     "data": {
      "text/plain": "               date          artistName  \\\n0  2021-05-22 00:25  Los Ángeles Azules   \n1  2021-05-25 05:57               Fobia   \n2  2021-05-25 05:57      T.M.Revolution   \n3  2021-05-25 05:57      T.M.Revolution   \n4  2021-05-25 06:03         Night Tempo   \n\n                                     trackName  timePlayed  \n0                    Me Cuesta Tanto Olvidarte       93993  \n1                                         Vivo        2834  \n2                        HEART OF SWORD 〜夜明け前〜        7401  \n3                        HEART OF SWORD 〜夜明け前〜      244333  \n4  Stay with Me - Night Tempo Showa Groove Mix      341746  ",
      "text/html": "<div>\n<style scoped>\n    .dataframe tbody tr th:only-of-type {\n        vertical-align: middle;\n    }\n\n    .dataframe tbody tr th {\n        vertical-align: top;\n    }\n\n    .dataframe thead th {\n        text-align: right;\n    }\n</style>\n<table border=\"1\" class=\"dataframe\">\n  <thead>\n    <tr style=\"text-align: right;\">\n      <th></th>\n      <th>date</th>\n      <th>artistName</th>\n      <th>trackName</th>\n      <th>timePlayed</th>\n    </tr>\n  </thead>\n  <tbody>\n    <tr>\n      <th>0</th>\n      <td>2021-05-22 00:25</td>\n      <td>Los Ángeles Azules</td>\n      <td>Me Cuesta Tanto Olvidarte</td>\n      <td>93993</td>\n    </tr>\n    <tr>\n      <th>1</th>\n      <td>2021-05-25 05:57</td>\n      <td>Fobia</td>\n      <td>Vivo</td>\n      <td>2834</td>\n    </tr>\n    <tr>\n      <th>2</th>\n      <td>2021-05-25 05:57</td>\n      <td>T.M.Revolution</td>\n      <td>HEART OF SWORD 〜夜明け前〜</td>\n      <td>7401</td>\n    </tr>\n    <tr>\n      <th>3</th>\n      <td>2021-05-25 05:57</td>\n      <td>T.M.Revolution</td>\n      <td>HEART OF SWORD 〜夜明け前〜</td>\n      <td>244333</td>\n    </tr>\n    <tr>\n      <th>4</th>\n      <td>2021-05-25 06:03</td>\n      <td>Night Tempo</td>\n      <td>Stay with Me - Night Tempo Showa Groove Mix</td>\n      <td>341746</td>\n    </tr>\n  </tbody>\n</table>\n</div>"
     },
     "execution_count": 100,
     "metadata": {},
     "output_type": "execute_result"
    }
   ],
   "source": [
    "# rename columns\n",
    "df = df.rename(columns={\"endTime\": \"date\", \"msPlayed\": \"timePlayed\"})\n",
    "df.head()"
   ],
   "metadata": {
    "collapsed": false,
    "pycharm": {
     "name": "#%%\n"
    }
   }
  },
  {
   "cell_type": "code",
   "execution_count": 101,
   "outputs": [
    {
     "data": {
      "text/plain": "        date          artistName                                    trackName  \\\n0 2021-05-22  Los Ángeles Azules                    Me Cuesta Tanto Olvidarte   \n1 2021-05-25               Fobia                                         Vivo   \n2 2021-05-25      T.M.Revolution                        HEART OF SWORD 〜夜明け前〜   \n3 2021-05-25      T.M.Revolution                        HEART OF SWORD 〜夜明け前〜   \n4 2021-05-25         Night Tempo  Stay with Me - Night Tempo Showa Groove Mix   \n\n   timePlayed  \n0       93993  \n1        2834  \n2        7401  \n3      244333  \n4      341746  ",
      "text/html": "<div>\n<style scoped>\n    .dataframe tbody tr th:only-of-type {\n        vertical-align: middle;\n    }\n\n    .dataframe tbody tr th {\n        vertical-align: top;\n    }\n\n    .dataframe thead th {\n        text-align: right;\n    }\n</style>\n<table border=\"1\" class=\"dataframe\">\n  <thead>\n    <tr style=\"text-align: right;\">\n      <th></th>\n      <th>date</th>\n      <th>artistName</th>\n      <th>trackName</th>\n      <th>timePlayed</th>\n    </tr>\n  </thead>\n  <tbody>\n    <tr>\n      <th>0</th>\n      <td>2021-05-22</td>\n      <td>Los Ángeles Azules</td>\n      <td>Me Cuesta Tanto Olvidarte</td>\n      <td>93993</td>\n    </tr>\n    <tr>\n      <th>1</th>\n      <td>2021-05-25</td>\n      <td>Fobia</td>\n      <td>Vivo</td>\n      <td>2834</td>\n    </tr>\n    <tr>\n      <th>2</th>\n      <td>2021-05-25</td>\n      <td>T.M.Revolution</td>\n      <td>HEART OF SWORD 〜夜明け前〜</td>\n      <td>7401</td>\n    </tr>\n    <tr>\n      <th>3</th>\n      <td>2021-05-25</td>\n      <td>T.M.Revolution</td>\n      <td>HEART OF SWORD 〜夜明け前〜</td>\n      <td>244333</td>\n    </tr>\n    <tr>\n      <th>4</th>\n      <td>2021-05-25</td>\n      <td>Night Tempo</td>\n      <td>Stay with Me - Night Tempo Showa Groove Mix</td>\n      <td>341746</td>\n    </tr>\n  </tbody>\n</table>\n</div>"
     },
     "execution_count": 101,
     "metadata": {},
     "output_type": "execute_result"
    }
   ],
   "source": [
    "df[\"date\"] = pd.to_datetime(df[\"date\"])\n",
    "df[\"date\"]  = df[\"date\"].dt.floor('d')\n",
    "df.head()"
   ],
   "metadata": {
    "collapsed": false,
    "pycharm": {
     "name": "#%%\n"
    }
   }
  },
  {
   "cell_type": "code",
   "execution_count": null,
   "outputs": [],
   "source": [
    "# df.set_index('date', inplace=True)\n",
    "# print(df.index.date)\n"
   ],
   "metadata": {
    "collapsed": false,
    "pycharm": {
     "name": "#%%\n",
     "is_executing": true
    }
   }
  },
  {
   "cell_type": "code",
   "execution_count": 102,
   "outputs": [
    {
     "data": {
      "text/plain": "        date          artistName                                    trackName  \\\n0 2021-05-22  Los Ángeles Azules                    Me Cuesta Tanto Olvidarte   \n1 2021-05-25               Fobia                                         Vivo   \n2 2021-05-25      T.M.Revolution                        HEART OF SWORD 〜夜明け前〜   \n3 2021-05-25      T.M.Revolution                        HEART OF SWORD 〜夜明け前〜   \n4 2021-05-25         Night Tempo  Stay with Me - Night Tempo Showa Groove Mix   \n\n   timePlayed  \n0    1.566550  \n1    0.047233  \n2    0.123350  \n3    4.072217  \n4    5.695767  ",
      "text/html": "<div>\n<style scoped>\n    .dataframe tbody tr th:only-of-type {\n        vertical-align: middle;\n    }\n\n    .dataframe tbody tr th {\n        vertical-align: top;\n    }\n\n    .dataframe thead th {\n        text-align: right;\n    }\n</style>\n<table border=\"1\" class=\"dataframe\">\n  <thead>\n    <tr style=\"text-align: right;\">\n      <th></th>\n      <th>date</th>\n      <th>artistName</th>\n      <th>trackName</th>\n      <th>timePlayed</th>\n    </tr>\n  </thead>\n  <tbody>\n    <tr>\n      <th>0</th>\n      <td>2021-05-22</td>\n      <td>Los Ángeles Azules</td>\n      <td>Me Cuesta Tanto Olvidarte</td>\n      <td>1.566550</td>\n    </tr>\n    <tr>\n      <th>1</th>\n      <td>2021-05-25</td>\n      <td>Fobia</td>\n      <td>Vivo</td>\n      <td>0.047233</td>\n    </tr>\n    <tr>\n      <th>2</th>\n      <td>2021-05-25</td>\n      <td>T.M.Revolution</td>\n      <td>HEART OF SWORD 〜夜明け前〜</td>\n      <td>0.123350</td>\n    </tr>\n    <tr>\n      <th>3</th>\n      <td>2021-05-25</td>\n      <td>T.M.Revolution</td>\n      <td>HEART OF SWORD 〜夜明け前〜</td>\n      <td>4.072217</td>\n    </tr>\n    <tr>\n      <th>4</th>\n      <td>2021-05-25</td>\n      <td>Night Tempo</td>\n      <td>Stay with Me - Night Tempo Showa Groove Mix</td>\n      <td>5.695767</td>\n    </tr>\n  </tbody>\n</table>\n</div>"
     },
     "execution_count": 102,
     "metadata": {},
     "output_type": "execute_result"
    }
   ],
   "source": [
    "df['timePlayed'] = pd.to_timedelta(df['timePlayed'], unit='ms')\n",
    "df['timePlayed'] = df['timePlayed'].dt.total_seconds() / 60\n",
    "df.head()"
   ],
   "metadata": {
    "collapsed": false,
    "pycharm": {
     "name": "#%%\n"
    }
   }
  },
  {
   "cell_type": "markdown",
   "source": [
    "Luego vamos a obtener un conteo de canciones por día, que día de la semana es, y que número de semana corresponde cada fecha:"
   ],
   "metadata": {
    "collapsed": false,
    "pycharm": {
     "name": "#%% md\n"
    }
   }
  },
  {
   "cell_type": "code",
   "execution_count": 103,
   "outputs": [],
   "source": [
    "by_date = df.groupby(\"date\")[[\"trackName\"]].count()\n",
    "by_date = by_date.sort_index()"
   ],
   "metadata": {
    "collapsed": false,
    "pycharm": {
     "name": "#%%\n"
    }
   }
  },
  {
   "cell_type": "code",
   "execution_count": 104,
   "outputs": [
    {
     "name": "stderr",
     "output_type": "stream",
     "text": [
      "C:\\Users\\iris9\\AppData\\Local\\Temp\\ipykernel_28612\\3829240475.py:2: FutureWarning: weekofyear and week have been deprecated, please use DatetimeIndex.isocalendar().week instead, which returns a Series. To exactly reproduce the behavior of week and weekofyear and return an Index, you may call pd.Int64Index(idx.isocalendar().week)\n",
      "  by_date[\"week\"] = by_date.index.week\n"
     ]
    },
    {
     "data": {
      "text/plain": "            trackName  weekday  week\ndate                                \n2021-05-22          1        5    20\n2021-05-25         75        1    21\n2021-05-26         62        2    21\n2021-05-27        217        3    21\n2021-05-28        177        4    21",
      "text/html": "<div>\n<style scoped>\n    .dataframe tbody tr th:only-of-type {\n        vertical-align: middle;\n    }\n\n    .dataframe tbody tr th {\n        vertical-align: top;\n    }\n\n    .dataframe thead th {\n        text-align: right;\n    }\n</style>\n<table border=\"1\" class=\"dataframe\">\n  <thead>\n    <tr style=\"text-align: right;\">\n      <th></th>\n      <th>trackName</th>\n      <th>weekday</th>\n      <th>week</th>\n    </tr>\n    <tr>\n      <th>date</th>\n      <th></th>\n      <th></th>\n      <th></th>\n    </tr>\n  </thead>\n  <tbody>\n    <tr>\n      <th>2021-05-22</th>\n      <td>1</td>\n      <td>5</td>\n      <td>20</td>\n    </tr>\n    <tr>\n      <th>2021-05-25</th>\n      <td>75</td>\n      <td>1</td>\n      <td>21</td>\n    </tr>\n    <tr>\n      <th>2021-05-26</th>\n      <td>62</td>\n      <td>2</td>\n      <td>21</td>\n    </tr>\n    <tr>\n      <th>2021-05-27</th>\n      <td>217</td>\n      <td>3</td>\n      <td>21</td>\n    </tr>\n    <tr>\n      <th>2021-05-28</th>\n      <td>177</td>\n      <td>4</td>\n      <td>21</td>\n    </tr>\n  </tbody>\n</table>\n</div>"
     },
     "execution_count": 104,
     "metadata": {},
     "output_type": "execute_result"
    }
   ],
   "source": [
    "by_date[\"weekday\"] = by_date.index.weekday\n",
    "by_date[\"week\"] = by_date.index.week\n",
    "by_date.head()\n",
    "\n"
   ],
   "metadata": {
    "collapsed": false,
    "pycharm": {
     "name": "#%%\n"
    }
   }
  },
  {
   "cell_type": "code",
   "execution_count": null,
   "outputs": [],
   "source": [],
   "metadata": {
    "collapsed": false,
    "pycharm": {
     "name": "#%%\n"
    }
   }
  }
 ],
 "metadata": {
  "kernelspec": {
   "display_name": "Python 3",
   "language": "python",
   "name": "python3"
  },
  "language_info": {
   "codemirror_mode": {
    "name": "ipython",
    "version": 2
   },
   "file_extension": ".py",
   "mimetype": "text/x-python",
   "name": "python",
   "nbconvert_exporter": "python",
   "pygments_lexer": "ipython2",
   "version": "2.7.6"
  }
 },
 "nbformat": 4,
 "nbformat_minor": 0
}